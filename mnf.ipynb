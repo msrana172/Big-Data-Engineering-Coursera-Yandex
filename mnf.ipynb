{
  "nbformat": 4,
  "nbformat_minor": 0,
  "metadata": {
    "colab": {
      "name": "mnf",
      "provenance": [],
      "include_colab_link": true
    },
    "kernelspec": {
      "name": "python3",
      "display_name": "Python 3"
    }
  },
  "cells": [
    {
      "cell_type": "markdown",
      "metadata": {
        "id": "view-in-github",
        "colab_type": "text"
      },
      "source": [
        "<a href=\"https://colab.research.google.com/github/msrana172/Big-Data-Engineering-Coursera-Yandex/blob/master/mnf.ipynb\" target=\"_parent\"><img src=\"https://colab.research.google.com/assets/colab-badge.svg\" alt=\"Open In Colab\"/></a>"
      ]
    },
    {
      "cell_type": "code",
      "metadata": {
        "id": "KO9PkmoSB39z"
      },
      "source": [
        "pip install --upgrade google-cloud-translate"
      ],
      "execution_count": null,
      "outputs": []
    },
    {
      "cell_type": "code",
      "metadata": {
        "colab": {
          "base_uri": "https://localhost:8080/"
        },
        "id": "m33NYuvMXqIy",
        "outputId": "48242f54-12b9-46de-c19c-e43e7ec2375f"
      },
      "source": [
        "import os\r\n",
        "from google.cloud import translate_v2 as translate\r\n",
        "os.environ[\"GOOGLE_APPLICATION_CREDENTIALS\"]=\"/content/unique-decker-278617-ead19fb5dcc9.json\"\r\n",
        "\r\n",
        "translate_client = translate.Client()\r\n",
        "\r\n",
        "#text =\"my name is lokesh.\"\r\n",
        "text = \"My name is Goat cheese\"\r\n",
        "target = \"fr\"\r\n",
        "\r\n",
        "result = translate_client.translate(text, target_language=target)\r\n",
        "\r\n",
        "print(u\"Text: {}\".format(result[\"input\"]))\r\n",
        "print(u\"Translation: {}\".format(result[\"translatedText\"]))\r\n",
        "print(u\"Detected source language: {}\".format(result[\"detectedSourceLanguage\"]))"
      ],
      "execution_count": null,
      "outputs": [
        {
          "output_type": "stream",
          "text": [
            "Text: My name is Goat cheese\n",
            "Translation: Mon nom est fromage de chèvre\n",
            "Detected source language: en\n"
          ],
          "name": "stdout"
        }
      ]
    },
    {
      "cell_type": "code",
      "metadata": {
        "colab": {
          "base_uri": "https://localhost:8080/"
        },
        "id": "Tkxzpls8ZQQ0",
        "outputId": "befcaf44-a697-477e-b14e-91fb5adfa7d9"
      },
      "source": [
        "result"
      ],
      "execution_count": null,
      "outputs": [
        {
          "output_type": "execute_result",
          "data": {
            "text/plain": [
              "{'detectedSourceLanguage': 'en',\n",
              " 'input': 'my name is lokesh',\n",
              " 'translatedText': 'मेरा नाम लोकेश है'}"
            ]
          },
          "metadata": {
            "tags": []
          },
          "execution_count": 3
        }
      ]
    },
    {
      "cell_type": "code",
      "metadata": {
        "id": "NOP30D46oTp7"
      },
      "source": [
        "def create_glossary(languages, project_id, glossary_name, glossary_uri):\r\n",
        "    \r\n",
        "    timeout=180\r\n",
        "    location = \"us-central1\"\r\n",
        "\r\n",
        "    client = translate.TranslationServiceClient()\r\n",
        "    name = client.glossary_path(project_id, location, glossary_name)\r\n",
        "\r\n",
        "  \r\n",
        "    language_codes_set = translate.Glossary.LanguageCodesSet(\r\n",
        "        language_codes=languages)\r\n",
        "\r\n",
        "    gcs_source = translate.GcsSource(input_uri=glossary_uri)\r\n",
        "\r\n",
        "    input_config = translate.GlossaryInputConfig(gcs_source=gcs_source)\r\n",
        "\r\n",
        "    glossary = translate.Glossary(\r\n",
        "        name=name, language_codes_set=language_codes_set, input_config=input_config\r\n",
        "    )\r\n",
        "\r\n",
        "    parent = f\"projects/{project_id}/locations/{location}\"\r\n",
        "\r\n",
        "    #print(\"hello\")\r\n",
        "    operation = client.create_glossary(parent=parent, glossary=glossary)\r\n",
        "    #print(\"hello\")\r\n",
        "\r\n",
        "    result = operation.result(timeout)\r\n",
        "    print(\"Created: {}\".format(result.name))\r\n",
        "    print(\"Input Uri: {}\".format(result.input_config.gcs_source.input_uri))"
      ],
      "execution_count": null,
      "outputs": []
    },
    {
      "cell_type": "code",
      "metadata": {
        "id": "boLFPAUso0ZM"
      },
      "source": [
        "import os\r\n",
        "from google.api_core.exceptions import AlreadyExists\r\n",
        "from google.cloud import translate_v3 as translate\r\n",
        "os.environ[\"GOOGLE_APPLICATION_CREDENTIALS\"]=\"/content/unique-decker-278617-ead19fb5dcc9.json\"\r\n",
        "os.environ[\"GCLOUD_PROJECT\"]=\"unique-decker-278617\"\r\n"
      ],
      "execution_count": null,
      "outputs": []
    },
    {
      "cell_type": "code",
      "metadata": {
        "id": "M55GcYHRuZZL",
        "colab": {
          "base_uri": "https://localhost:8080/"
        },
        "outputId": "8337e271-2e23-4cec-9653-1359193b929d"
      },
      "source": [
        "glossary_langs = [\"fr\", \"en\"]\r\n",
        "PROJECT_ID = \"unique-decker-278617\"\r\n",
        "glossary_name = \"lokeshgupta1\"\r\n",
        "glossary_uri = \"gs://gupta/Book1.csv\"\r\n",
        "create_glossary(glossary_langs, PROJECT_ID, glossary_name, glossary_uri)"
      ],
      "execution_count": null,
      "outputs": [
        {
          "output_type": "stream",
          "text": [
            "Created: projects/1073430299264/locations/us-central1/glossaries/lokeshgupta1\n",
            "Input Uri: gs://gupta/Book1.csv\n"
          ],
          "name": "stdout"
        }
      ]
    },
    {
      "cell_type": "code",
      "metadata": {
        "id": "8BpgIM5SaroF"
      },
      "source": [
        "from google.cloud import translate\r\n",
        "def translate_text_with_glossary(\r\n",
        "    text = \"YOUR_TEXT_TO_TRANSLATE\",\r\n",
        "    project_id = \"YOUR_PROJECT_ID\",\r\n",
        "    glossary_id = \"YOUR_GLOSSARY_ID\",\r\n",
        "):\r\n",
        "    \"\"\"Translates a given text using a glossary.\"\"\"\r\n",
        "\r\n",
        "    client = translate.TranslationServiceClient()\r\n",
        "    location = \"us-central1\"\r\n",
        "    parent = f\"projects/{project_id}/locations/{location}\"\r\n",
        "\r\n",
        "    glossary = client.glossary_path(\r\n",
        "        project_id, \"us-central1\", glossary_id  # The location of the glossary\r\n",
        "    )\r\n",
        "\r\n",
        "    glossary_config = translate.TranslateTextGlossaryConfig(glossary=glossary)\r\n",
        "\r\n",
        "    # Supported language codes: https://cloud.google.com/translate/docs/languages\r\n",
        "    response = client.translate_text(\r\n",
        "        request={\r\n",
        "            \"contents\": [text],\r\n",
        "            \"target_language_code\": \"fr\",\r\n",
        "            \"source_language_code\": \"en\",\r\n",
        "            \"parent\": parent,\r\n",
        "            \"glossary_config\": glossary_config,\r\n",
        "        }\r\n",
        "    )\r\n",
        "\r\n",
        "    print(\"Translated text: \\n\")\r\n",
        "    for translation in response.glossary_translations:\r\n",
        "        print(\"\\t {}\".format(translation.translated_text))"
      ],
      "execution_count": null,
      "outputs": []
    },
    {
      "cell_type": "code",
      "metadata": {
        "colab": {
          "base_uri": "https://localhost:8080/"
        },
        "id": "7xzqkNW3arsG",
        "outputId": "b8cfebc1-a783-4877-f703-b4052d959a7f"
      },
      "source": [
        "translate_text_with_glossary(\"My name is Goat cheese\", \"unique-decker-278617\", \"lokeshgupta\" )"
      ],
      "execution_count": null,
      "outputs": [
        {
          "output_type": "stream",
          "text": [
            "Translated text: \n",
            "\n",
            "\t Mon nom est Chevre\n"
          ],
          "name": "stdout"
        }
      ]
    },
    {
      "cell_type": "code",
      "metadata": {
        "id": "40WgCxvJarvQ"
      },
      "source": [
        ""
      ],
      "execution_count": null,
      "outputs": []
    },
    {
      "cell_type": "code",
      "metadata": {
        "id": "pQ0sT2T7asGg"
      },
      "source": [
        "Mon nom est lokesh "
      ],
      "execution_count": null,
      "outputs": []
    },
    {
      "cell_type": "code",
      "metadata": {
        "id": "U3_wXMeoasJm"
      },
      "source": [
        "Mon nom est fromage de chèvre"
      ],
      "execution_count": null,
      "outputs": []
    },
    {
      "cell_type": "code",
      "metadata": {
        "id": "cJUeoWTrascE"
      },
      "source": [
        "from google.cloud import translate\r\n",
        "def list_glossaries(project_id=\"YOUR_PROJECT_ID\"):\r\n",
        "    \"\"\"List Glossaries.\"\"\"\r\n",
        "\r\n",
        "    client = translate.TranslationServiceClient()\r\n",
        "\r\n",
        "    location = \"us-central1\"\r\n",
        "\r\n",
        "    parent = f\"projects/{project_id}/locations/{location}\"\r\n",
        "\r\n",
        "    # Iterate over all results\r\n",
        "    for glossary in client.list_glossaries(parent=parent):\r\n",
        "        print(\"Name: {}\".format(glossary.name))\r\n",
        "        print(\"Entry count: {}\".format(glossary.entry_count))\r\n",
        "        print(\"Input uri: {}\".format(glossary.input_config.gcs_source.input_uri))\r\n",
        "\r\n",
        "        # Note: You can create a glossary using one of two modes:\r\n",
        "        # language_code_set or language_pair. When listing the information for\r\n",
        "        # a glossary, you can only get information for the mode you used\r\n",
        "        # when creating the glossary.\r\n",
        "        for language_code in glossary.language_codes_set.language_codes:\r\n",
        "            print(\"Language code: {}\".format(language_code))"
      ],
      "execution_count": null,
      "outputs": []
    },
    {
      "cell_type": "code",
      "metadata": {
        "colab": {
          "base_uri": "https://localhost:8080/"
        },
        "id": "N9zzkVVhasfK",
        "outputId": "dfe36bdc-c6d2-4c2d-c904-b848e41a931e"
      },
      "source": [
        "list_glossaries(\"unique-decker-278617\")"
      ],
      "execution_count": null,
      "outputs": [
        {
          "output_type": "stream",
          "text": [
            "Name: projects/1073430299264/locations/us-central1/glossaries/gl\n",
            "Entry count: 11\n",
            "Input uri: gs://cloud-samples-data/translation/bistro_glossary.csv\n",
            "Language code: fr\n",
            "Language code: en\n",
            "Name: projects/1073430299264/locations/us-central1/glossaries/gloss\n",
            "Entry count: 11\n",
            "Input uri: gs://cloud-samples-data/translation/bistro_glossary.csv\n",
            "Language code: fr\n",
            "Language code: en\n",
            "Name: projects/1073430299264/locations/us-central1/glossaries/glossary\n",
            "Entry count: 11\n",
            "Input uri: gs://cloud-samples-data/translation/bistro_glossary.csv\n",
            "Language code: fr\n",
            "Language code: en\n",
            "Name: projects/1073430299264/locations/us-central1/glossaries/hmm\n",
            "Entry count: 8\n",
            "Input uri: gs://gupta/Book1.csv\n",
            "Language code: fr\n",
            "Language code: en\n",
            "Name: projects/1073430299264/locations/us-central1/glossaries/lok\n",
            "Entry count: 8\n",
            "Input uri: gs://gupta/Book1.csv\n",
            "Language code: fr\n",
            "Language code: en\n",
            "Name: projects/1073430299264/locations/us-central1/glossaries/loke\n",
            "Entry count: 11\n",
            "Input uri: gs://cloud-samples-data/translation/bistro_glossary.csv\n",
            "Language code: fr\n",
            "Language code: en\n",
            "Name: projects/1073430299264/locations/us-central1/glossaries/lokeshgupta\n",
            "Entry count: 8\n",
            "Input uri: gs://gupta/Book1.csv\n",
            "Language code: fr\n",
            "Language code: en\n"
          ],
          "name": "stdout"
        }
      ]
    },
    {
      "cell_type": "code",
      "metadata": {
        "id": "HqcRd9u6asiT"
      },
      "source": [
        "from google.cloud import translate_v3 as translate\r\n",
        "\r\n",
        "def delete_glossary(\r\n",
        "    project_id=\"YOUR_PROJECT_ID\", glossary_id=\"YOUR_GLOSSARY_ID\", timeout=180,\r\n",
        "):\r\n",
        "    \"\"\"Delete a specific glossary based on the glossary ID.\"\"\"\r\n",
        "    client = translate.TranslationServiceClient()\r\n",
        "\r\n",
        "    name = client.glossary_path(project_id, \"us-central1\", glossary_id)\r\n",
        "\r\n",
        "    operation = client.delete_glossary(name=name)\r\n",
        "    result = operation.result(timeout)\r\n",
        "    print(\"Deleted: {}\".format(result.name))\r\n"
      ],
      "execution_count": null,
      "outputs": []
    },
    {
      "cell_type": "code",
      "metadata": {
        "colab": {
          "base_uri": "https://localhost:8080/"
        },
        "id": "RwJurwzbasnI",
        "outputId": "a43acac0-308e-483a-92c9-f73250dadd54"
      },
      "source": [
        "delete_glossary(\"unique-decker-278617\", \"bistro-glossary\" )"
      ],
      "execution_count": null,
      "outputs": [
        {
          "output_type": "stream",
          "text": [
            "Deleted: projects/1073430299264/locations/us-central1/glossaries/bistro-glossary\n"
          ],
          "name": "stdout"
        }
      ]
    },
    {
      "cell_type": "code",
      "metadata": {
        "id": "6WK3GZDMasqv"
      },
      "source": [
        "from google.cloud import translate_v3 as translate\r\n",
        "def get_glossary(project_id = \"YOUR_PROJECT_ID\", glossary_id=\"YOUR_GLOSSARY_ID\"):\r\n",
        "    \"\"\"Get a particular glossary based on the glossary ID.\"\"\"\r\n",
        "\r\n",
        "    client = translate.TranslationServiceClient()\r\n",
        "\r\n",
        "    name = client.glossary_path(project_id, \"us-central1\", glossary_id)\r\n",
        "\r\n",
        "    response = client.get_glossary(name=name)\r\n",
        "    print(u\"Glossary name: {}\".format(response.name))\r\n",
        "    print(u\"Entry count: {}\".format(response.entry_count))\r\n",
        "    print(u\"Input URI: {}\".format(response.input_config.gcs_source.input_uri))"
      ],
      "execution_count": null,
      "outputs": []
    },
    {
      "cell_type": "code",
      "metadata": {
        "colab": {
          "base_uri": "https://localhost:8080/"
        },
        "id": "LPcpkYUdgqIq",
        "outputId": "9c7ea3f5-ac28-4276-eab1-3e22fbde7ac7"
      },
      "source": [
        "get_glossary(\"unique-decker-278617\", \"lokeshgupta\")"
      ],
      "execution_count": null,
      "outputs": [
        {
          "output_type": "stream",
          "text": [
            "Glossary name: projects/1073430299264/locations/us-central1/glossaries/lokeshgupta\n",
            "Entry count: 8\n",
            "Input URI: gs://gupta/Book1.csv\n"
          ],
          "name": "stdout"
        }
      ]
    },
    {
      "cell_type": "code",
      "metadata": {
        "id": "b3AUBPYPgqLn"
      },
      "source": [
        ""
      ],
      "execution_count": null,
      "outputs": []
    },
    {
      "cell_type": "code",
      "metadata": {
        "colab": {
          "base_uri": "https://localhost:8080/"
        },
        "id": "xhyhXYOGLXtZ",
        "outputId": "8a91eaae-b15a-463c-f405-9674e6ea3c4c"
      },
      "source": [
        "glossary_langs = [\"fr\", \"en\"]\r\n",
        "PROJECT_ID = \"unique-decker-278617\"\r\n",
        "glossary_name = \"gl\"\r\n",
        "glossary_uri = \"gs://cloud-samples-data/translation/bistro_glossary.csv\"\r\n",
        "create_glossary(glossary_langs, PROJECT_ID, glossary_name, glossary_uri)"
      ],
      "execution_count": null,
      "outputs": [
        {
          "output_type": "stream",
          "text": [
            "hello\n",
            "hello\n",
            "Created: projects/1073430299264/locations/us-central1/glossaries/gl\n",
            "Input Uri: gs://cloud-samples-data/translation/bistro_glossary.csv\n"
          ],
          "name": "stdout"
        }
      ]
    },
    {
      "cell_type": "code",
      "metadata": {
        "id": "xE_BtFSDapKa"
      },
      "source": [
        ""
      ],
      "execution_count": null,
      "outputs": []
    },
    {
      "cell_type": "code",
      "metadata": {
        "id": "Xj0eYT2WapNH"
      },
      "source": [
        ""
      ],
      "execution_count": null,
      "outputs": []
    },
    {
      "cell_type": "code",
      "metadata": {
        "id": "vuY2JrbxapPX"
      },
      "source": [
        ""
      ],
      "execution_count": null,
      "outputs": []
    },
    {
      "cell_type": "code",
      "metadata": {
        "id": "00L9cA8VapRk"
      },
      "source": [
        ""
      ],
      "execution_count": null,
      "outputs": []
    },
    {
      "cell_type": "code",
      "metadata": {
        "id": "iP9m7LqbapTm"
      },
      "source": [
        ""
      ],
      "execution_count": null,
      "outputs": []
    },
    {
      "cell_type": "code",
      "metadata": {
        "id": "dw8FuI91apWq"
      },
      "source": [
        ""
      ],
      "execution_count": null,
      "outputs": []
    },
    {
      "cell_type": "code",
      "metadata": {
        "colab": {
          "base_uri": "https://localhost:8080/"
        },
        "id": "5diSbzimk64o",
        "outputId": "60768eea-a19c-48f6-a6cd-080b48551165"
      },
      "source": [
        "glossary_langs = [\"fr\", \"en\"]\r\n",
        "PROJECT_ID = \"unique-decker-278617\"\r\n",
        "glossary_name = \"hmm\"\r\n",
        "glossary_uri = \"gs://gupta/Book1.csv\"\r\n",
        "create_glossary(glossary_langs, PROJECT_ID, glossary_name, glossary_uri)"
      ],
      "execution_count": null,
      "outputs": [
        {
          "output_type": "stream",
          "text": [
            "hello\n",
            "hello\n",
            "Created: projects/1073430299264/locations/us-central1/glossaries/hmm\n",
            "Input Uri: gs://gupta/Book1.csv\n"
          ],
          "name": "stdout"
        }
      ]
    },
    {
      "cell_type": "code",
      "metadata": {
        "id": "sc-aLvaDuxEn"
      },
      "source": [
        ""
      ],
      "execution_count": null,
      "outputs": []
    }
  ]
}